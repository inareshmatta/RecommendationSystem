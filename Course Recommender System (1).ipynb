{
 "cells": [
  {
   "cell_type": "code",
   "execution_count": 2,
   "id": "b96b9e1d",
   "metadata": {},
   "outputs": [
    {
     "name": "stdout",
     "output_type": "stream",
     "text": [
      "Collecting neattext\n",
      "  Downloading neattext-0.1.3-py3-none-any.whl (114 kB)\n",
      "Installing collected packages: neattext\n",
      "Successfully installed neattext-0.1.3\n",
      "Note: you may need to restart the kernel to use updated packages.\n"
     ]
    }
   ],
   "source": [
    "pip install neattext"
   ]
  },
  {
   "cell_type": "code",
   "execution_count": 3,
   "id": "f1053a7d",
   "metadata": {},
   "outputs": [],
   "source": [
    "import pandas as pd\n",
    "import neattext.functions as nfx\n",
    "from sklearn.feature_extraction.text import TfidfVectorizer,CountVectorizer\n",
    "from sklearn.metrics.pairwise import cosine_similarity"
   ]
  },
  {
   "cell_type": "code",
   "execution_count": 4,
   "id": "a00139f5",
   "metadata": {},
   "outputs": [],
   "source": [
    "data = pd.read_csv('udemy_courses.csv')"
   ]
  },
  {
   "cell_type": "markdown",
   "id": "501f91e8",
   "metadata": {},
   "source": [
    "### Notes:\n",
    "\n",
    "The `data.columns` command is used to retrieve the column labels of the dataset. The result is a list of column names, providing an overview of the different features or variables present in the dataset.\n",
    "\n",
    "This information is useful for understanding the structure of the dataset and can be used as a reference when working with specific columns during data analysis, visualization, or feature engineering."
   ]
  },
  {
   "cell_type": "code",
   "execution_count": 5,
   "id": "47d49d10",
   "metadata": {},
   "outputs": [
    {
     "data": {
      "text/plain": [
       "Index(['course_id', 'course_title', 'url', 'is_paid', 'price',\n",
       "       'num_subscribers', 'num_reviews', 'num_lectures', 'level',\n",
       "       'content_duration', 'published_timestamp', 'subject'],\n",
       "      dtype='object')"
      ]
     },
     "execution_count": 5,
     "metadata": {},
     "output_type": "execute_result"
    }
   ],
   "source": [
    "data.columns\n"
   ]
  },
  {
   "cell_type": "code",
   "execution_count": 6,
   "id": "eecf7cbd",
   "metadata": {},
   "outputs": [
    {
     "data": {
      "text/html": [
       "<div>\n",
       "<style scoped>\n",
       "    .dataframe tbody tr th:only-of-type {\n",
       "        vertical-align: middle;\n",
       "    }\n",
       "\n",
       "    .dataframe tbody tr th {\n",
       "        vertical-align: top;\n",
       "    }\n",
       "\n",
       "    .dataframe thead th {\n",
       "        text-align: right;\n",
       "    }\n",
       "</style>\n",
       "<table border=\"1\" class=\"dataframe\">\n",
       "  <thead>\n",
       "    <tr style=\"text-align: right;\">\n",
       "      <th></th>\n",
       "      <th>course_id</th>\n",
       "      <th>course_title</th>\n",
       "      <th>url</th>\n",
       "      <th>is_paid</th>\n",
       "      <th>price</th>\n",
       "      <th>num_subscribers</th>\n",
       "      <th>num_reviews</th>\n",
       "      <th>num_lectures</th>\n",
       "      <th>level</th>\n",
       "      <th>content_duration</th>\n",
       "      <th>published_timestamp</th>\n",
       "      <th>subject</th>\n",
       "    </tr>\n",
       "  </thead>\n",
       "  <tbody>\n",
       "    <tr>\n",
       "      <th>0</th>\n",
       "      <td>1070968</td>\n",
       "      <td>Ultimate Investment Banking Course</td>\n",
       "      <td>https://www.udemy.com/ultimate-investment-bank...</td>\n",
       "      <td>True</td>\n",
       "      <td>200</td>\n",
       "      <td>2147</td>\n",
       "      <td>23</td>\n",
       "      <td>51</td>\n",
       "      <td>All Levels</td>\n",
       "      <td>1.5</td>\n",
       "      <td>2017-01-18T20:58:58Z</td>\n",
       "      <td>Business Finance</td>\n",
       "    </tr>\n",
       "  </tbody>\n",
       "</table>\n",
       "</div>"
      ],
      "text/plain": [
       "   course_id                        course_title  \\\n",
       "0    1070968  Ultimate Investment Banking Course   \n",
       "\n",
       "                                                 url  is_paid  price  \\\n",
       "0  https://www.udemy.com/ultimate-investment-bank...     True    200   \n",
       "\n",
       "   num_subscribers  num_reviews  num_lectures       level  content_duration  \\\n",
       "0             2147           23            51  All Levels               1.5   \n",
       "\n",
       "    published_timestamp           subject  \n",
       "0  2017-01-18T20:58:58Z  Business Finance  "
      ]
     },
     "execution_count": 6,
     "metadata": {},
     "output_type": "execute_result"
    }
   ],
   "source": [
    "data.head(1)"
   ]
  },
  {
   "cell_type": "code",
   "execution_count": 7,
   "id": "ce1144a7",
   "metadata": {},
   "outputs": [
    {
     "data": {
      "text/plain": [
       "course_id              0\n",
       "course_title           0\n",
       "url                    0\n",
       "is_paid                0\n",
       "price                  0\n",
       "num_subscribers        0\n",
       "num_reviews            0\n",
       "num_lectures           0\n",
       "level                  0\n",
       "content_duration       0\n",
       "published_timestamp    0\n",
       "subject                0\n",
       "dtype: int64"
      ]
     },
     "execution_count": 7,
     "metadata": {},
     "output_type": "execute_result"
    }
   ],
   "source": [
    "data.isnull().sum()\n"
   ]
  },
  {
   "cell_type": "markdown",
   "id": "a8419a70",
   "metadata": {},
   "source": [
    "### Notes:\n",
    "\n",
    "The `data.isnull().sum()` command is used to count the number of missing values in each column of the dataset. It returns a Series where the index represents the column names, and the corresponding values indicate the count of missing values in each column.\n",
    "\n",
    "This is a crucial step in data preprocessing as it helps identify columns with missing data, allowing for informed decisions on how to handle or impute missing values. Understanding the extent of missing data is essential for maintaining the quality and integrity of the dataset during analysis and modeling.\n",
    "\n",
    "\n",
    "In the output, the values indicate the number of missing values in each corresponding column."
   ]
  },
  {
   "cell_type": "code",
   "execution_count": 8,
   "id": "010c4246",
   "metadata": {},
   "outputs": [
    {
     "data": {
      "text/plain": [
       "True"
      ]
     },
     "execution_count": 8,
     "metadata": {},
     "output_type": "execute_result"
    }
   ],
   "source": [
    "data.duplicated().any()\n",
    "\n"
   ]
  },
  {
   "cell_type": "markdown",
   "id": "2c619bc0",
   "metadata": {},
   "source": [
    "### Notes:\n",
    "\n",
    "The `data.duplicated().any()` command is used to check if there are any duplicate rows in the dataset. It returns a Boolean value – `True` if duplicates are found, and `False` otherwise.\n",
    "\n",
    "Identifying and handling duplicate rows is crucial in ensuring data quality, especially in scenarios where each row is expected to represent unique observations. Detecting duplicates allows for further investigation and potential removal to prevent skewed analyses or modeling."
   ]
  },
  {
   "cell_type": "code",
   "execution_count": 9,
   "id": "fb33f7c9",
   "metadata": {},
   "outputs": [
    {
     "data": {
      "text/html": [
       "<div>\n",
       "<style scoped>\n",
       "    .dataframe tbody tr th:only-of-type {\n",
       "        vertical-align: middle;\n",
       "    }\n",
       "\n",
       "    .dataframe tbody tr th {\n",
       "        vertical-align: top;\n",
       "    }\n",
       "\n",
       "    .dataframe thead th {\n",
       "        text-align: right;\n",
       "    }\n",
       "</style>\n",
       "<table border=\"1\" class=\"dataframe\">\n",
       "  <thead>\n",
       "    <tr style=\"text-align: right;\">\n",
       "      <th></th>\n",
       "      <th>course_id</th>\n",
       "      <th>course_title</th>\n",
       "      <th>url</th>\n",
       "      <th>is_paid</th>\n",
       "      <th>price</th>\n",
       "      <th>num_subscribers</th>\n",
       "      <th>num_reviews</th>\n",
       "      <th>num_lectures</th>\n",
       "      <th>level</th>\n",
       "      <th>content_duration</th>\n",
       "      <th>published_timestamp</th>\n",
       "      <th>subject</th>\n",
       "    </tr>\n",
       "  </thead>\n",
       "  <tbody>\n",
       "    <tr>\n",
       "      <th>787</th>\n",
       "      <td>837322</td>\n",
       "      <td>Essentials of money value: Get a financial Life !</td>\n",
       "      <td>https://www.udemy.com/essentials-of-money-value/</td>\n",
       "      <td>True</td>\n",
       "      <td>20</td>\n",
       "      <td>0</td>\n",
       "      <td>0</td>\n",
       "      <td>20</td>\n",
       "      <td>All Levels</td>\n",
       "      <td>0.616667</td>\n",
       "      <td>2016-05-16T18:28:30Z</td>\n",
       "      <td>Business Finance</td>\n",
       "    </tr>\n",
       "    <tr>\n",
       "      <th>788</th>\n",
       "      <td>1157298</td>\n",
       "      <td>Introduction to Forex Trading Business For Beg...</td>\n",
       "      <td>https://www.udemy.com/introduction-to-forex-tr...</td>\n",
       "      <td>True</td>\n",
       "      <td>20</td>\n",
       "      <td>0</td>\n",
       "      <td>0</td>\n",
       "      <td>27</td>\n",
       "      <td>Beginner Level</td>\n",
       "      <td>1.500000</td>\n",
       "      <td>2017-04-23T16:19:01Z</td>\n",
       "      <td>Business Finance</td>\n",
       "    </tr>\n",
       "    <tr>\n",
       "      <th>894</th>\n",
       "      <td>1035638</td>\n",
       "      <td>Understanding Financial Statements</td>\n",
       "      <td>https://www.udemy.com/understanding-financial-...</td>\n",
       "      <td>True</td>\n",
       "      <td>25</td>\n",
       "      <td>0</td>\n",
       "      <td>0</td>\n",
       "      <td>10</td>\n",
       "      <td>All Levels</td>\n",
       "      <td>1.000000</td>\n",
       "      <td>2016-12-15T14:56:17Z</td>\n",
       "      <td>Business Finance</td>\n",
       "    </tr>\n",
       "    <tr>\n",
       "      <th>1100</th>\n",
       "      <td>1084454</td>\n",
       "      <td>CFA Level 2- Quantitative Methods</td>\n",
       "      <td>https://www.udemy.com/cfa-level-2-quantitative...</td>\n",
       "      <td>True</td>\n",
       "      <td>40</td>\n",
       "      <td>0</td>\n",
       "      <td>0</td>\n",
       "      <td>35</td>\n",
       "      <td>All Levels</td>\n",
       "      <td>5.500000</td>\n",
       "      <td>2017-07-02T14:29:35Z</td>\n",
       "      <td>Business Finance</td>\n",
       "    </tr>\n",
       "    <tr>\n",
       "      <th>1473</th>\n",
       "      <td>185526</td>\n",
       "      <td>MicroStation - Células</td>\n",
       "      <td>https://www.udemy.com/microstation-celulas/</td>\n",
       "      <td>True</td>\n",
       "      <td>20</td>\n",
       "      <td>0</td>\n",
       "      <td>0</td>\n",
       "      <td>9</td>\n",
       "      <td>Beginner Level</td>\n",
       "      <td>0.616667</td>\n",
       "      <td>2014-04-15T21:48:55Z</td>\n",
       "      <td>Graphic Design</td>\n",
       "    </tr>\n",
       "    <tr>\n",
       "      <th>2561</th>\n",
       "      <td>28295</td>\n",
       "      <td>Learn Web Designing &amp; HTML5/CSS3 Essentials in...</td>\n",
       "      <td>https://www.udemy.com/build-beautiful-html5-we...</td>\n",
       "      <td>True</td>\n",
       "      <td>75</td>\n",
       "      <td>43285</td>\n",
       "      <td>525</td>\n",
       "      <td>24</td>\n",
       "      <td>All Levels</td>\n",
       "      <td>4.000000</td>\n",
       "      <td>2013-01-03T00:55:31Z</td>\n",
       "      <td>Web Development</td>\n",
       "    </tr>\n",
       "  </tbody>\n",
       "</table>\n",
       "</div>"
      ],
      "text/plain": [
       "      course_id                                       course_title  \\\n",
       "787      837322  Essentials of money value: Get a financial Life !   \n",
       "788     1157298  Introduction to Forex Trading Business For Beg...   \n",
       "894     1035638                 Understanding Financial Statements   \n",
       "1100    1084454                  CFA Level 2- Quantitative Methods   \n",
       "1473     185526                             MicroStation - Células   \n",
       "2561      28295  Learn Web Designing & HTML5/CSS3 Essentials in...   \n",
       "\n",
       "                                                    url  is_paid  price  \\\n",
       "787    https://www.udemy.com/essentials-of-money-value/     True     20   \n",
       "788   https://www.udemy.com/introduction-to-forex-tr...     True     20   \n",
       "894   https://www.udemy.com/understanding-financial-...     True     25   \n",
       "1100  https://www.udemy.com/cfa-level-2-quantitative...     True     40   \n",
       "1473        https://www.udemy.com/microstation-celulas/     True     20   \n",
       "2561  https://www.udemy.com/build-beautiful-html5-we...     True     75   \n",
       "\n",
       "      num_subscribers  num_reviews  num_lectures           level  \\\n",
       "787                 0            0            20      All Levels   \n",
       "788                 0            0            27  Beginner Level   \n",
       "894                 0            0            10      All Levels   \n",
       "1100                0            0            35      All Levels   \n",
       "1473                0            0             9  Beginner Level   \n",
       "2561            43285          525            24      All Levels   \n",
       "\n",
       "      content_duration   published_timestamp           subject  \n",
       "787           0.616667  2016-05-16T18:28:30Z  Business Finance  \n",
       "788           1.500000  2017-04-23T16:19:01Z  Business Finance  \n",
       "894           1.000000  2016-12-15T14:56:17Z  Business Finance  \n",
       "1100          5.500000  2017-07-02T14:29:35Z  Business Finance  \n",
       "1473          0.616667  2014-04-15T21:48:55Z    Graphic Design  \n",
       "2561          4.000000  2013-01-03T00:55:31Z   Web Development  "
      ]
     },
     "execution_count": 9,
     "metadata": {},
     "output_type": "execute_result"
    }
   ],
   "source": [
    "data[data.duplicated()]\n"
   ]
  },
  {
   "cell_type": "code",
   "execution_count": 10,
   "id": "8de45138",
   "metadata": {},
   "outputs": [],
   "source": [
    "data = data.drop_duplicates()\n"
   ]
  },
  {
   "cell_type": "code",
   "execution_count": 11,
   "id": "72eba324",
   "metadata": {},
   "outputs": [
    {
     "data": {
      "text/plain": [
       "(3672, 12)"
      ]
     },
     "execution_count": 11,
     "metadata": {},
     "output_type": "execute_result"
    }
   ],
   "source": [
    "data.shape\n"
   ]
  },
  {
   "cell_type": "code",
   "execution_count": 12,
   "id": "77d7f8ec",
   "metadata": {},
   "outputs": [
    {
     "data": {
      "text/plain": [
       "0                      Ultimate Investment Banking Course\n",
       "1       Complete GST Course & Certification - Grow You...\n",
       "2       Financial Modeling for Business Analysts and C...\n",
       "3       Beginner to Pro - Financial Analysis in Excel ...\n",
       "4            How To Maximize Your Profits Trading Options\n",
       "                              ...                        \n",
       "3673    Learn jQuery from Scratch - Master of JavaScri...\n",
       "3674    How To Design A WordPress Website With No Codi...\n",
       "3675                        Learn and Build using Polymer\n",
       "3676    CSS Animations: Create Amazing Effects on Your...\n",
       "3677    Using MODX CMS to Build Websites: A Beginner's...\n",
       "Name: course_title, Length: 3672, dtype: object"
      ]
     },
     "execution_count": 12,
     "metadata": {},
     "output_type": "execute_result"
    }
   ],
   "source": [
    "data['course_title']\n"
   ]
  },
  {
   "cell_type": "code",
   "execution_count": 13,
   "id": "b34b8cf9",
   "metadata": {},
   "outputs": [
    {
     "data": {
      "text/plain": [
       "Index(['course_id', 'course_title', 'url', 'is_paid', 'price',\n",
       "       'num_subscribers', 'num_reviews', 'num_lectures', 'level',\n",
       "       'content_duration', 'published_timestamp', 'subject'],\n",
       "      dtype='object')"
      ]
     },
     "execution_count": 13,
     "metadata": {},
     "output_type": "execute_result"
    }
   ],
   "source": [
    "data.columns\n"
   ]
  },
  {
   "cell_type": "markdown",
   "id": "daf64991",
   "metadata": {},
   "source": [
    "### Popularity-based recommendation system\n"
   ]
  },
  {
   "cell_type": "code",
   "execution_count": 15,
   "id": "902813ea",
   "metadata": {},
   "outputs": [],
   "source": [
    "def popularity_based_recommendation(df,top_n=5):\n",
    "    # Calculate popularity score for each course\n",
    "    data['popularity_score'] = 0.6 * data['num_subscribers'] + 0.4 * data['num_reviews']\n",
    "    \n",
    "    # Sort courses by popularity score in descending order\n",
    "    df_sorted = data.sort_values(by='popularity_score', ascending=False)\n",
    "    \n",
    "    # Return the recommended courses (course titles and popularity scores)\n",
    "    recommended_courses = df_sorted[['course_title', 'popularity_score']].head(top_n)\n",
    "    \n",
    "    return recommended_courses"
   ]
  },
  {
   "cell_type": "markdown",
   "id": "09d7af97",
   "metadata": {},
   "source": [
    "Here's an explanation of each line in the `popularity_based_recommendation` function:\n",
    "\n",
    "1. **Function Definition:**\n",
    "   - `def popularity_based_recommendation(df, top_n=5):`\n",
    "     - Defines a function named `popularity_based_recommendation` that takes a DataFrame `df` as input and an optional parameter `top_n` with a default value of 5.\n",
    "\n",
    "2. **Calculate Popularity Score:**\n",
    "   - `data['popularity_score'] = 0.6 * data['num_subscribers'] + 0.4 * data['num_reviews']`\n",
    "     - Calculates a popularity score for each course based on a weighted combination of the number of subscribers and the number of reviews. The weights are 0.6 and 0.4, respectively.\n",
    "\n",
    "3. **Sort Courses by Popularity Score:**\n",
    "   - `df_sorted = data.sort_values(by='popularity_score', ascending=False)`\n",
    "     - Sorts the DataFrame `data` based on the calculated popularity scores in descending order. The resulting DataFrame is stored in `df_sorted`.\n",
    "\n",
    "4. **Return Recommended Courses:**\n",
    "   - `recommended_courses = df_sorted[['course_title', 'popularity_score']].head(top_n)`\n",
    "     - Extracts the columns 'course_title' and 'popularity_score' from the sorted DataFrame, selecting the top `top_n` courses with the highest popularity scores.\n",
    "\n",
    "5. **Return Statement:**\n",
    "   - `return recommended_courses`\n",
    "     - Returns the DataFrame `recommended_courses`, which contains the titles and popularity scores of the recommended courses.\n",
    "\n",
    "This function essentially provides recommendations based on the popularity score of courses, prioritizing those with higher subscriber counts and reviews. The user can specify the number of top courses they want to receive recommendations for using the `top_n` parameter.\n",
    "\n",
    "\n",
    "\n",
    "**Explanation:**\n",
    "- For each course, the popularity score is calculated using the formula: `0.6 * num_subscribers + 0.4 * num_reviews`.\n",
    "- Let's take 'Course A' as an example:\n",
    "  - `0.6 * 100 + 0.4 * 50 = 60 + 20 = 80`\n",
    "  - So, the popularity score for 'Course A' is 80.0.\n",
    "- Similarly, the calculation is performed for 'Course B' and 'Course C'.\n",
    "- The resulting DataFrame includes the original columns ('course_title', 'num_subscribers', 'num_reviews') and a new column ('popularity_score') containing the calculated scores.\n",
    "\n",
    "In this example, the weights of 0.6 and 0.4 represent the relative importance of subscribers and reviews in determining the popularity score. The courses are then sorted based on their popularity scores to provide recommendations."
   ]
  },
  {
   "cell_type": "code",
   "execution_count": 16,
   "id": "b57e2271",
   "metadata": {},
   "outputs": [
    {
     "data": {
      "text/html": [
       "<div>\n",
       "<style scoped>\n",
       "    .dataframe tbody tr th:only-of-type {\n",
       "        vertical-align: middle;\n",
       "    }\n",
       "\n",
       "    .dataframe tbody tr th {\n",
       "        vertical-align: top;\n",
       "    }\n",
       "\n",
       "    .dataframe thead th {\n",
       "        text-align: right;\n",
       "    }\n",
       "</style>\n",
       "<table border=\"1\" class=\"dataframe\">\n",
       "  <thead>\n",
       "    <tr style=\"text-align: right;\">\n",
       "      <th></th>\n",
       "      <th>course_title</th>\n",
       "      <th>popularity_score</th>\n",
       "    </tr>\n",
       "  </thead>\n",
       "  <tbody>\n",
       "    <tr>\n",
       "      <th>2827</th>\n",
       "      <td>Learn HTML5 Programming From Scratch</td>\n",
       "      <td>164805.4</td>\n",
       "    </tr>\n",
       "    <tr>\n",
       "      <th>3032</th>\n",
       "      <td>Coding for Entrepreneurs Basic</td>\n",
       "      <td>96729.0</td>\n",
       "    </tr>\n",
       "    <tr>\n",
       "      <th>3230</th>\n",
       "      <td>The Web Developer Bootcamp</td>\n",
       "      <td>83928.4</td>\n",
       "    </tr>\n",
       "    <tr>\n",
       "      <th>3232</th>\n",
       "      <td>The Complete Web Developer Course 2.0</td>\n",
       "      <td>77672.0</td>\n",
       "    </tr>\n",
       "    <tr>\n",
       "      <th>2783</th>\n",
       "      <td>Build Your First Website in 1 Week with HTML5 ...</td>\n",
       "      <td>74544.2</td>\n",
       "    </tr>\n",
       "  </tbody>\n",
       "</table>\n",
       "</div>"
      ],
      "text/plain": [
       "                                           course_title  popularity_score\n",
       "2827               Learn HTML5 Programming From Scratch          164805.4\n",
       "3032                     Coding for Entrepreneurs Basic           96729.0\n",
       "3230                         The Web Developer Bootcamp           83928.4\n",
       "3232              The Complete Web Developer Course 2.0           77672.0\n",
       "2783  Build Your First Website in 1 Week with HTML5 ...           74544.2"
      ]
     },
     "execution_count": 16,
     "metadata": {},
     "output_type": "execute_result"
    }
   ],
   "source": [
    "popularity_based_recommendation(data)\n"
   ]
  },
  {
   "cell_type": "markdown",
   "id": "eaa9c4c0",
   "metadata": {},
   "source": [
    "### Content-Based Recommendation System\n"
   ]
  },
  {
   "cell_type": "code",
   "execution_count": 17,
   "id": "dfdd197b",
   "metadata": {},
   "outputs": [],
   "source": [
    "data['course_title'] = data['course_title'].apply(nfx.remove_stopwords)\n",
    "data['course_title']  =data['course_title'].apply(nfx.remove_special_characters)"
   ]
  },
  {
   "cell_type": "markdown",
   "id": "91b55a12",
   "metadata": {},
   "source": [
    "Here's an explanation of each line:\n",
    "\n",
    "```python\n",
    "# Apply the remove_stopwords function to each element in the 'course_title' column\n",
    "data['course_title'] = data['course_title'].apply(nfx.remove_stopwords)\n",
    "```\n",
    "\n",
    "1. **`data['course_title']`:**\n",
    "   - Selects the 'course_title' column in the DataFrame `data`.\n",
    "\n",
    "2. **`.apply(nfx.remove_stopwords)`:**\n",
    "   - Applies the `remove_stopwords` function from the `nfx` (natural language processing extensions) library to each element in the 'course_title' column.\n",
    "   - The `remove_stopwords` function is likely designed to remove common stopwords (common words like \"the,\" \"and,\" etc.) from text.\n",
    "\n",
    "```python\n",
    "# Apply the remove_special_characters function to each element in the 'course_title' column\n",
    "data['course_title'] = data['course_title'].apply(nfx.remove_special_characters)\n",
    "```\n",
    "\n",
    "3. **`data['course_title']`:**\n",
    "   - Again, selects the 'course_title' column in the DataFrame `data`.\n",
    "\n",
    "4. **`.apply(nfx.remove_special_characters)`:**\n",
    "   - Applies the `remove_special_characters` function from the `nfx` library to each element in the 'course_title' column.\n",
    "   - The `remove_special_characters` function is likely designed to remove special characters (e.g., punctuation, symbols) from text.\n",
    "\n",
    "**Overall Explanation:**\n",
    "- The two lines of code are part of a data preprocessing step for the 'course_title' column.\n",
    "- The `remove_stopwords` function is applied first to remove common stopwords from each course title.\n",
    "- The `remove_special_characters` function is then applied to remove any remaining special characters in the course titles.\n",
    "- These operations are commonly performed in natural language processing (NLP) tasks to clean and preprocess text data before further analysis or modeling. The goal is to enhance the quality of text data by removing irrelevant or noisy elements."
   ]
  },
  {
   "cell_type": "code",
   "execution_count": 18,
   "id": "58aa77d8",
   "metadata": {},
   "outputs": [
    {
     "data": {
      "text/html": [
       "<div>\n",
       "<style scoped>\n",
       "    .dataframe tbody tr th:only-of-type {\n",
       "        vertical-align: middle;\n",
       "    }\n",
       "\n",
       "    .dataframe tbody tr th {\n",
       "        vertical-align: top;\n",
       "    }\n",
       "\n",
       "    .dataframe thead th {\n",
       "        text-align: right;\n",
       "    }\n",
       "</style>\n",
       "<table border=\"1\" class=\"dataframe\">\n",
       "  <thead>\n",
       "    <tr style=\"text-align: right;\">\n",
       "      <th></th>\n",
       "      <th>course_id</th>\n",
       "      <th>course_title</th>\n",
       "      <th>url</th>\n",
       "      <th>is_paid</th>\n",
       "      <th>price</th>\n",
       "      <th>num_subscribers</th>\n",
       "      <th>num_reviews</th>\n",
       "      <th>num_lectures</th>\n",
       "      <th>level</th>\n",
       "      <th>content_duration</th>\n",
       "      <th>published_timestamp</th>\n",
       "      <th>subject</th>\n",
       "      <th>popularity_score</th>\n",
       "    </tr>\n",
       "  </thead>\n",
       "  <tbody>\n",
       "    <tr>\n",
       "      <th>2856</th>\n",
       "      <td>708558</td>\n",
       "      <td>Learn HTML Basics Scratch</td>\n",
       "      <td>https://www.udemy.com/learn-html-from-scratch/</td>\n",
       "      <td>False</td>\n",
       "      <td>0</td>\n",
       "      <td>5004</td>\n",
       "      <td>52</td>\n",
       "      <td>21</td>\n",
       "      <td>All Levels</td>\n",
       "      <td>3.00</td>\n",
       "      <td>2015-12-29T19:01:04Z</td>\n",
       "      <td>Web Development</td>\n",
       "      <td>3023.2</td>\n",
       "    </tr>\n",
       "    <tr>\n",
       "      <th>2964</th>\n",
       "      <td>964118</td>\n",
       "      <td>Bootstrap basics beginners</td>\n",
       "      <td>https://www.udemy.com/bootstrap-basics-for-beg...</td>\n",
       "      <td>True</td>\n",
       "      <td>40</td>\n",
       "      <td>1152</td>\n",
       "      <td>20</td>\n",
       "      <td>14</td>\n",
       "      <td>All Levels</td>\n",
       "      <td>1.00</td>\n",
       "      <td>2016-09-21T14:49:10Z</td>\n",
       "      <td>Web Development</td>\n",
       "      <td>699.2</td>\n",
       "    </tr>\n",
       "    <tr>\n",
       "      <th>2486</th>\n",
       "      <td>965528</td>\n",
       "      <td>Web Development Masterclass  Complete Certific...</td>\n",
       "      <td>https://www.udemy.com/web-development-mastercl...</td>\n",
       "      <td>True</td>\n",
       "      <td>200</td>\n",
       "      <td>4090</td>\n",
       "      <td>178</td>\n",
       "      <td>348</td>\n",
       "      <td>All Levels</td>\n",
       "      <td>19.50</td>\n",
       "      <td>2016-10-12T03:14:13Z</td>\n",
       "      <td>Web Development</td>\n",
       "      <td>2525.2</td>\n",
       "    </tr>\n",
       "    <tr>\n",
       "      <th>1942</th>\n",
       "      <td>311530</td>\n",
       "      <td>Learn Play Blues Rock  Boogie Woogie Piano Today</td>\n",
       "      <td>https://www.udemy.com/learn-how-to-play-blues-...</td>\n",
       "      <td>True</td>\n",
       "      <td>45</td>\n",
       "      <td>2346</td>\n",
       "      <td>11</td>\n",
       "      <td>14</td>\n",
       "      <td>All Levels</td>\n",
       "      <td>0.65</td>\n",
       "      <td>2014-10-08T22:07:46Z</td>\n",
       "      <td>Musical Instruments</td>\n",
       "      <td>1412.0</td>\n",
       "    </tr>\n",
       "    <tr>\n",
       "      <th>1294</th>\n",
       "      <td>15611</td>\n",
       "      <td>Discover 7 Secrets Figure Drawing Draw Awesome</td>\n",
       "      <td>https://www.udemy.com/how-to-draw-the-human-fi...</td>\n",
       "      <td>True</td>\n",
       "      <td>40</td>\n",
       "      <td>2634</td>\n",
       "      <td>92</td>\n",
       "      <td>25</td>\n",
       "      <td>All Levels</td>\n",
       "      <td>10.00</td>\n",
       "      <td>2012-04-04T02:24:51Z</td>\n",
       "      <td>Graphic Design</td>\n",
       "      <td>1617.2</td>\n",
       "    </tr>\n",
       "  </tbody>\n",
       "</table>\n",
       "</div>"
      ],
      "text/plain": [
       "      course_id                                       course_title  \\\n",
       "2856     708558                          Learn HTML Basics Scratch   \n",
       "2964     964118                         Bootstrap basics beginners   \n",
       "2486     965528  Web Development Masterclass  Complete Certific...   \n",
       "1942     311530   Learn Play Blues Rock  Boogie Woogie Piano Today   \n",
       "1294      15611    Discover 7 Secrets Figure Drawing Draw Awesome    \n",
       "\n",
       "                                                    url  is_paid  price  \\\n",
       "2856     https://www.udemy.com/learn-html-from-scratch/    False      0   \n",
       "2964  https://www.udemy.com/bootstrap-basics-for-beg...     True     40   \n",
       "2486  https://www.udemy.com/web-development-mastercl...     True    200   \n",
       "1942  https://www.udemy.com/learn-how-to-play-blues-...     True     45   \n",
       "1294  https://www.udemy.com/how-to-draw-the-human-fi...     True     40   \n",
       "\n",
       "      num_subscribers  num_reviews  num_lectures       level  \\\n",
       "2856             5004           52            21  All Levels   \n",
       "2964             1152           20            14  All Levels   \n",
       "2486             4090          178           348  All Levels   \n",
       "1942             2346           11            14  All Levels   \n",
       "1294             2634           92            25  All Levels   \n",
       "\n",
       "      content_duration   published_timestamp              subject  \\\n",
       "2856              3.00  2015-12-29T19:01:04Z      Web Development   \n",
       "2964              1.00  2016-09-21T14:49:10Z      Web Development   \n",
       "2486             19.50  2016-10-12T03:14:13Z      Web Development   \n",
       "1942              0.65  2014-10-08T22:07:46Z  Musical Instruments   \n",
       "1294             10.00  2012-04-04T02:24:51Z       Graphic Design   \n",
       "\n",
       "      popularity_score  \n",
       "2856            3023.2  \n",
       "2964             699.2  \n",
       "2486            2525.2  \n",
       "1942            1412.0  \n",
       "1294            1617.2  "
      ]
     },
     "execution_count": 18,
     "metadata": {},
     "output_type": "execute_result"
    }
   ],
   "source": [
    "data.sample(5)\n"
   ]
  },
  {
   "cell_type": "code",
   "execution_count": 19,
   "id": "6c79fc67",
   "metadata": {},
   "outputs": [],
   "source": [
    "data['title_subject']  =data['course_title'] +' '+data['subject']\n"
   ]
  },
  {
   "cell_type": "markdown",
   "id": "a34d88e7",
   "metadata": {},
   "source": [
    "Cosine similarity is a measure of similarity between two vectors in a multidimensional space. It is a metric used to measure the similarity between two vectors by calculating the cosine of the angle between the two vectors. \n",
    "\n",
    "The cosine similarity between two vectors (A and B) is calculated as follows:\n",
    "\n",
    "Cosine Similarity(A, B) = (A.B)/(||A|| ||B||)\n",
    "\n",
    "where:\n",
    "\n",
    "* A and B are the two vectors being compared\n",
    "* A.B is the dot product of A and B\n",
    "* ||A|| and ||B|| are the magnitudes of A and B, respectively\n",
    "\n",
    "The cosine similarity ranges from -1 to 1. A value of 1 indicates that the two vectors are identical, while a value of -1 indicates that the two vectors are pointing in opposite directions. A value of 0 indicates that the two vectors are orthogonal.\n",
    "\n",
    "Cosine similarity is used in a variety of applications, including:\n",
    "\n",
    "* Information retrieval: Cosine similarity is used to measure the similarity between documents or queries in order to return relevant results to users. For example, a search engine might use cosine similarity to rank documents based on how similar they are to a user's query.\n",
    "* Natural language processing: Cosine similarity is used to measure the similarity between words or phrases in order to perform tasks such as machine translation and text summarization.\n",
    "* Recommender systems: Cosine similarity is used to recommend products or services to users based on their past purchases or browsing history. For example, an online retailer might use cosine similarity to recommend products to a user that are similar to products that the user has purchased in the past."
   ]
  },
  {
   "cell_type": "code",
   "execution_count": 20,
   "id": "c8579194",
   "metadata": {},
   "outputs": [],
   "source": [
    "cv = CountVectorizer(max_features=3000)\n",
    "vectors = cv.fit_transform(data['title_subject']).toarray()"
   ]
  },
  {
   "cell_type": "code",
   "execution_count": 21,
   "id": "66f2ee6b",
   "metadata": {},
   "outputs": [
    {
     "data": {
      "text/plain": [
       "array([0, 0, 0, ..., 0, 0, 0], dtype=int64)"
      ]
     },
     "execution_count": 21,
     "metadata": {},
     "output_type": "execute_result"
    }
   ],
   "source": [
    "vectors[0]"
   ]
  },
  {
   "cell_type": "markdown",
   "id": "90278a54",
   "metadata": {},
   "source": [
    "1. **Vectorizing the Titles:**\n",
    "   - Each book title is transformed into a numerical format using a technique called \"CountVectorizer.\"\n",
    "   - CountVectorizer converts the text into a set of numbers, where each number represents the frequency of a word in the title.\n",
    "   - For example, \"Introduction to Python\" might become [1, 1, 0, 0, 1, 0, 0, ...] based on the words it contains.\n",
    "\n",
    "2. **Creating Vectors:**\n",
    "   - All the book titles are represented as vectors in a high-dimensional space.\n",
    "   - Each coordinate in the vector corresponds to a unique word in the entire set of titles.\n",
    "\n",
    "3. **Calculating Cosine Similarity:**\n",
    "   - Cosine similarity measures the cosine of the angle between two vectors.\n",
    "   - The formula for cosine similarity between vectors A and B is:\n",
    "     \\[ \\text{Cosine Similarity} = \\frac{A \\cdot B}{\\|A\\| \\cdot \\|B\\|} \\]\n",
    "   - In simpler terms, it's the dot product of the vectors divided by the product of their magnitudes (lengths).\n",
    "\n",
    "4. **Interpreting the Score:**\n",
    "   - The result is a score between 0 and 1.\n",
    "   - If the score is 1, the vectors point in the same direction, meaning the titles are identical.\n",
    "   - If the score is 0, the vectors are orthogonal (at a right angle), indicating no similarity.\n",
    "\n",
    "So, the logic is to calculate how much the vectors representing two book titles align with each other. The more aligned they are, the higher the cosine similarity score, suggesting higher similarity in terms of the words they contain. This score helps identify books that are conceptually closer or share common themes based on the words in their titles."
   ]
  },
  {
   "cell_type": "code",
   "execution_count": 33,
   "id": "24fff30f",
   "metadata": {},
   "outputs": [
    {
     "name": "stdout",
     "output_type": "stream",
     "text": [
      "                                    advanced  algorithms  and  basics  \\\n",
      "Introduction to Python Programming         0           0    0       0   \n",
      "Python Crash Course                        0           0    0       0   \n",
      "Advanced Python Concepts                   1           0    0       0   \n",
      "Data Science with Python                   0           0    0       0   \n",
      "Machine Learning Essentials                0           0    0       0   \n",
      "Deep Learning Basics                       0           0    0       1   \n",
      "Web Development with Django                0           0    0       0   \n",
      "JavaScript for Beginners                   0           0    0       0   \n",
      "HTML and CSS Fundamentals                  0           0    1       0   \n",
      "Algorithms and Data Structures             0           1    1       0   \n",
      "\n",
      "                                    beginners  concepts  course  crash  css  \\\n",
      "Introduction to Python Programming          0         0       0      0    0   \n",
      "Python Crash Course                         0         0       1      1    0   \n",
      "Advanced Python Concepts                    0         1       0      0    0   \n",
      "Data Science with Python                    0         0       0      0    0   \n",
      "Machine Learning Essentials                 0         0       0      0    0   \n",
      "Deep Learning Basics                        0         0       0      0    0   \n",
      "Web Development with Django                 0         0       0      0    0   \n",
      "JavaScript for Beginners                    1         0       0      0    0   \n",
      "HTML and CSS Fundamentals                   0         0       0      0    1   \n",
      "Algorithms and Data Structures              0         0       0      0    0   \n",
      "\n",
      "                                    data  ...  javascript  learning  machine  \\\n",
      "Introduction to Python Programming     0  ...           0         0        0   \n",
      "Python Crash Course                    0  ...           0         0        0   \n",
      "Advanced Python Concepts               0  ...           0         0        0   \n",
      "Data Science with Python               1  ...           0         0        0   \n",
      "Machine Learning Essentials            0  ...           0         1        1   \n",
      "Deep Learning Basics                   0  ...           0         1        0   \n",
      "Web Development with Django            0  ...           0         0        0   \n",
      "JavaScript for Beginners               0  ...           1         0        0   \n",
      "HTML and CSS Fundamentals              0  ...           0         0        0   \n",
      "Algorithms and Data Structures         1  ...           0         0        0   \n",
      "\n",
      "                                    programming  python  science  structures  \\\n",
      "Introduction to Python Programming            1       1        0           0   \n",
      "Python Crash Course                           0       1        0           0   \n",
      "Advanced Python Concepts                      0       1        0           0   \n",
      "Data Science with Python                      0       1        1           0   \n",
      "Machine Learning Essentials                   0       0        0           0   \n",
      "Deep Learning Basics                          0       0        0           0   \n",
      "Web Development with Django                   0       0        0           0   \n",
      "JavaScript for Beginners                      0       0        0           0   \n",
      "HTML and CSS Fundamentals                     0       0        0           0   \n",
      "Algorithms and Data Structures                0       0        0           1   \n",
      "\n",
      "                                    to  web  with  \n",
      "Introduction to Python Programming   1    0     0  \n",
      "Python Crash Course                  0    0     0  \n",
      "Advanced Python Concepts             0    0     0  \n",
      "Data Science with Python             0    0     1  \n",
      "Machine Learning Essentials          0    0     0  \n",
      "Deep Learning Basics                 0    0     0  \n",
      "Web Development with Django          0    1     1  \n",
      "JavaScript for Beginners             0    0     0  \n",
      "HTML and CSS Fundamentals            0    0     0  \n",
      "Algorithms and Data Structures       0    0     0  \n",
      "\n",
      "[10 rows x 28 columns]\n"
     ]
    }
   ],
   "source": [
    "from sklearn.feature_extraction.text import CountVectorizer\n",
    "\n",
    "# List of book titles\n",
    "book_titles = [\n",
    "    \"Introduction to Python Programming\",\n",
    "    \"Python Crash Course\",\n",
    "    \"Advanced Python Concepts\",\n",
    "    \"Data Science with Python\",\n",
    "    \"Machine Learning Essentials\",\n",
    "    \"Deep Learning Basics\",\n",
    "    \"Web Development with Django\",\n",
    "    \"JavaScript for Beginners\",\n",
    "    \"HTML and CSS Fundamentals\",\n",
    "    \"Algorithms and Data Structures\"\n",
    "]\n",
    "\n",
    "# Create an instance of CountVectorizer\n",
    "vectorizer = CountVectorizer()\n",
    "\n",
    "# Transform the titles into vectors\n",
    "title_vectors = vectorizer.fit_transform(book_titles)\n",
    "\n",
    "# Get the feature names (words) from the vectorizer\n",
    "feature_names = vectorizer.get_feature_names_out()\n",
    "\n",
    "# Display the vectors as a DataFrame for better visualization\n",
    "import pandas as pd\n",
    "df = pd.DataFrame(title_vectors.toarray(), columns=feature_names)\n",
    "df.index = book_titles\n",
    "\n",
    "# Display the DataFrame\n",
    "print(df)\n"
   ]
  },
  {
   "cell_type": "code",
   "execution_count": 34,
   "id": "4050123f",
   "metadata": {},
   "outputs": [
    {
     "name": "stdout",
     "output_type": "stream",
     "text": [
      "                                    Introduction to Python Programming  \\\n",
      "Introduction to Python Programming                            1.000000   \n",
      "Python Crash Course                                           0.288675   \n",
      "Advanced Python Concepts                                      0.288675   \n",
      "Data Science with Python                                      0.250000   \n",
      "Machine Learning Essentials                                   0.000000   \n",
      "Deep Learning Basics                                          0.000000   \n",
      "Web Development with Django                                   0.000000   \n",
      "JavaScript for Beginners                                      0.000000   \n",
      "HTML and CSS Fundamentals                                     0.000000   \n",
      "Algorithms and Data Structures                                0.000000   \n",
      "\n",
      "                                    Python Crash Course  \\\n",
      "Introduction to Python Programming             0.288675   \n",
      "Python Crash Course                            1.000000   \n",
      "Advanced Python Concepts                       0.333333   \n",
      "Data Science with Python                       0.288675   \n",
      "Machine Learning Essentials                    0.000000   \n",
      "Deep Learning Basics                           0.000000   \n",
      "Web Development with Django                    0.000000   \n",
      "JavaScript for Beginners                       0.000000   \n",
      "HTML and CSS Fundamentals                      0.000000   \n",
      "Algorithms and Data Structures                 0.000000   \n",
      "\n",
      "                                    Advanced Python Concepts  \\\n",
      "Introduction to Python Programming                  0.288675   \n",
      "Python Crash Course                                 0.333333   \n",
      "Advanced Python Concepts                            1.000000   \n",
      "Data Science with Python                            0.288675   \n",
      "Machine Learning Essentials                         0.000000   \n",
      "Deep Learning Basics                                0.000000   \n",
      "Web Development with Django                         0.000000   \n",
      "JavaScript for Beginners                            0.000000   \n",
      "HTML and CSS Fundamentals                           0.000000   \n",
      "Algorithms and Data Structures                      0.000000   \n",
      "\n",
      "                                    Data Science with Python  \\\n",
      "Introduction to Python Programming                  0.250000   \n",
      "Python Crash Course                                 0.288675   \n",
      "Advanced Python Concepts                            0.288675   \n",
      "Data Science with Python                            1.000000   \n",
      "Machine Learning Essentials                         0.000000   \n",
      "Deep Learning Basics                                0.000000   \n",
      "Web Development with Django                         0.250000   \n",
      "JavaScript for Beginners                            0.000000   \n",
      "HTML and CSS Fundamentals                           0.000000   \n",
      "Algorithms and Data Structures                      0.250000   \n",
      "\n",
      "                                    Machine Learning Essentials  \\\n",
      "Introduction to Python Programming                     0.000000   \n",
      "Python Crash Course                                    0.000000   \n",
      "Advanced Python Concepts                               0.000000   \n",
      "Data Science with Python                               0.000000   \n",
      "Machine Learning Essentials                            1.000000   \n",
      "Deep Learning Basics                                   0.333333   \n",
      "Web Development with Django                            0.000000   \n",
      "JavaScript for Beginners                               0.000000   \n",
      "HTML and CSS Fundamentals                              0.000000   \n",
      "Algorithms and Data Structures                         0.000000   \n",
      "\n",
      "                                    Deep Learning Basics  \\\n",
      "Introduction to Python Programming              0.000000   \n",
      "Python Crash Course                             0.000000   \n",
      "Advanced Python Concepts                        0.000000   \n",
      "Data Science with Python                        0.000000   \n",
      "Machine Learning Essentials                     0.333333   \n",
      "Deep Learning Basics                            1.000000   \n",
      "Web Development with Django                     0.000000   \n",
      "JavaScript for Beginners                        0.000000   \n",
      "HTML and CSS Fundamentals                       0.000000   \n",
      "Algorithms and Data Structures                  0.000000   \n",
      "\n",
      "                                    Web Development with Django  \\\n",
      "Introduction to Python Programming                         0.00   \n",
      "Python Crash Course                                        0.00   \n",
      "Advanced Python Concepts                                   0.00   \n",
      "Data Science with Python                                   0.25   \n",
      "Machine Learning Essentials                                0.00   \n",
      "Deep Learning Basics                                       0.00   \n",
      "Web Development with Django                                1.00   \n",
      "JavaScript for Beginners                                   0.00   \n",
      "HTML and CSS Fundamentals                                  0.00   \n",
      "Algorithms and Data Structures                             0.00   \n",
      "\n",
      "                                    JavaScript for Beginners  \\\n",
      "Introduction to Python Programming                       0.0   \n",
      "Python Crash Course                                      0.0   \n",
      "Advanced Python Concepts                                 0.0   \n",
      "Data Science with Python                                 0.0   \n",
      "Machine Learning Essentials                              0.0   \n",
      "Deep Learning Basics                                     0.0   \n",
      "Web Development with Django                              0.0   \n",
      "JavaScript for Beginners                                 1.0   \n",
      "HTML and CSS Fundamentals                                0.0   \n",
      "Algorithms and Data Structures                           0.0   \n",
      "\n",
      "                                    HTML and CSS Fundamentals  \\\n",
      "Introduction to Python Programming                       0.00   \n",
      "Python Crash Course                                      0.00   \n",
      "Advanced Python Concepts                                 0.00   \n",
      "Data Science with Python                                 0.00   \n",
      "Machine Learning Essentials                              0.00   \n",
      "Deep Learning Basics                                     0.00   \n",
      "Web Development with Django                              0.00   \n",
      "JavaScript for Beginners                                 0.00   \n",
      "HTML and CSS Fundamentals                                1.00   \n",
      "Algorithms and Data Structures                           0.25   \n",
      "\n",
      "                                    Algorithms and Data Structures  \n",
      "Introduction to Python Programming                            0.00  \n",
      "Python Crash Course                                           0.00  \n",
      "Advanced Python Concepts                                      0.00  \n",
      "Data Science with Python                                      0.25  \n",
      "Machine Learning Essentials                                   0.00  \n",
      "Deep Learning Basics                                          0.00  \n",
      "Web Development with Django                                   0.00  \n",
      "JavaScript for Beginners                                      0.00  \n",
      "HTML and CSS Fundamentals                                     0.25  \n",
      "Algorithms and Data Structures                                1.00  \n"
     ]
    }
   ],
   "source": [
    "from sklearn.metrics.pairwise import cosine_similarity\n",
    "\n",
    "# Calculate cosine similarity between vectors\n",
    "cosine_sim_matrix = cosine_similarity(title_vectors)\n",
    "\n",
    "# Display the cosine similarity matrix as a DataFrame\n",
    "cosine_sim_df = pd.DataFrame(cosine_sim_matrix, index=book_titles, columns=book_titles)\n",
    "print(cosine_sim_df)\n"
   ]
  },
  {
   "cell_type": "markdown",
   "id": "f9ad175b",
   "metadata": {},
   "source": [
    "Cosine similarity is a measure of similarity between two non-zero vectors of an inner product space. In the context of vectorized text data, like the vectors we obtained from the book titles using CountVectorizer, cosine similarity measures the cosine of the angle between two vectors. The formula for cosine similarity between vectors \\(A\\) and \\(B\\) is given by:\n",
    "\n",
    "$[ \\text{cosine\\_similarity}(A, B) = \\frac{A \\cdot B}{\\|A\\| \\cdot \\|B\\|}]$\n",
    "\n",
    "Here:\n",
    "- $(A \\cdot B)$ is the dot product of vectors \\(A\\) and \\(B\\),\n",
    "- $(\\|A\\|)$ is the Euclidean norm (magnitude) of vector \\(A\\), and\n",
    "- $(\\|B\\|)$ is the Euclidean norm (magnitude) of vector \\(B\\).\n",
    "\n",
    "In the case of book titles, each book is represented as a vector, and the cosine similarity between two book vectors is computed using this formula. The result is a similarity score ranging from -1 to 1, where 1 indicates perfect similarity, 0 indicates no similarity, and -1 indicates perfect dissimilarity.\n",
    "\n",
    "Above code calculates the cosine similarity between the vectors representing the book titles using the Python `cosine_similarity` function from the `sklearn.metrics.pairwise` module\n",
    "\n",
    "\n",
    "This matrix will show the cosine similarity between each pair of book titles. Higher values indicate greater similarity."
   ]
  },
  {
   "cell_type": "code",
   "execution_count": 22,
   "id": "73de75b0",
   "metadata": {},
   "outputs": [
    {
     "ename": "AttributeError",
     "evalue": "'CountVectorizer' object has no attribute 'get_feature_names'",
     "output_type": "error",
     "traceback": [
      "\u001b[1;31m---------------------------------------------------------------------------\u001b[0m",
      "\u001b[1;31mAttributeError\u001b[0m                            Traceback (most recent call last)",
      "\u001b[1;32m~\\AppData\\Local\\Temp/ipykernel_12260/188548401.py\u001b[0m in \u001b[0;36m<module>\u001b[1;34m\u001b[0m\n\u001b[1;32m----> 1\u001b[1;33m \u001b[0mlen\u001b[0m\u001b[1;33m(\u001b[0m\u001b[0mcv\u001b[0m\u001b[1;33m.\u001b[0m\u001b[0mget_feature_names\u001b[0m\u001b[1;33m(\u001b[0m\u001b[1;33m)\u001b[0m\u001b[1;33m)\u001b[0m\u001b[1;33m\u001b[0m\u001b[1;33m\u001b[0m\u001b[0m\n\u001b[0m",
      "\u001b[1;31mAttributeError\u001b[0m: 'CountVectorizer' object has no attribute 'get_feature_names'"
     ]
    }
   ],
   "source": [
    "len(cv.get_feature_names())"
   ]
  },
  {
   "cell_type": "code",
   "execution_count": 23,
   "id": "5072c996",
   "metadata": {},
   "outputs": [],
   "source": [
    "from sklearn.metrics.pairwise import cosine_similarity\n"
   ]
  },
  {
   "cell_type": "code",
   "execution_count": 24,
   "id": "b4e5e1b3",
   "metadata": {},
   "outputs": [],
   "source": [
    "similarity = cosine_similarity(vectors)\n"
   ]
  },
  {
   "cell_type": "markdown",
   "id": "c685f831",
   "metadata": {},
   "source": [
    "In a book recommendation system, cosine similarity can be employed to measure the similarity between books based on their content or features. Here's how cosine similarity can be utilized in a book recommendation system:\n",
    "\n",
    "1. **Feature Representation:**\n",
    "   - Represent each book as a vector in a high-dimensional space, where each dimension corresponds to a feature or attribute of the book.\n",
    "   - Features may include terms from the book's description, author information, genre, or any other relevant metadata.\n",
    "\n",
    "2. **Vectorization:**\n",
    "   - Use techniques like TF-IDF (Term Frequency-Inverse Document Frequency) or CountVectorizer to convert textual data (e.g., book descriptions) into numerical vectors.\n",
    "   - The resulting vectors represent the content of each book in the feature space.\n",
    "\n",
    "3. **Cosine Similarity Calculation:**\n",
    "   - Calculate the cosine similarity between pairs of book vectors using the cosine similarity formula.\n",
    "   - The higher the cosine similarity between two books, the more similar they are in terms of their content.\n",
    "\n",
    "4. **Recommendation Generation:**\n",
    "   - Given a user's preferences or the books they have liked, identify books with high cosine similarity to the user's preferences.\n",
    "   - Recommend books that are similar to the ones the user has shown interest in.\n",
    "\n",
    "5. **Personalization:**\n",
    "   - Provide personalized recommendations by considering the cosine similarity scores for a user's entire set of preferences.\n",
    "   - Users with similar tastes will receive similar book recommendations.\n",
    "\n",
    "6. **Cold Start Problem:**\n",
    "   - Address the \"cold start\" problem (new books or users with limited data) by recommending books based on content similarity until there is enough user interaction data to make collaborative recommendations.\n",
    "\n",
    "Cosine similarity helps in capturing the semantic similarity between books, allowing the recommendation system to suggest books that are contextually similar to the ones a user has shown interest in. It is particularly useful when dealing with a large catalog of books and when the recommendation is based on textual content or features."
   ]
  },
  {
   "cell_type": "code",
   "execution_count": 25,
   "id": "579f066f",
   "metadata": {},
   "outputs": [
    {
     "data": {
      "text/plain": [
       "[(39, 0.7715167498104596),\n",
       " (240, 0.6666666666666669),\n",
       " (417, 0.6666666666666669),\n",
       " (418, 0.6172133998483676),\n",
       " (657, 0.6172133998483676)]"
      ]
     },
     "execution_count": 25,
     "metadata": {},
     "output_type": "execute_result"
    }
   ],
   "source": [
    "sorted(list(enumerate(similarity[0])),reverse=True,key=lambda x:x[1])[1:6]\n"
   ]
  },
  {
   "cell_type": "code",
   "execution_count": 26,
   "id": "6e3b66f8",
   "metadata": {},
   "outputs": [],
   "source": [
    "def recommend(course):\n",
    "    # let's featch the index\n",
    "    course_index = data[data['course_title']==course].index[0]\n",
    "    distances = similarity[course_index]\n",
    "    courses_list = sorted(list(enumerate(distances)),reverse=True,key=lambda x:x[1])[1:6]\n",
    "    for i in courses_list:\n",
    "        print(data.iloc[i[0]]['course_title'])"
   ]
  },
  {
   "cell_type": "code",
   "execution_count": 27,
   "id": "0956ab54",
   "metadata": {},
   "outputs": [
    {
     "name": "stdout",
     "output_type": "stream",
     "text": [
      "WordPress Development Beginners\n",
      "Wordpress Theme Development Beginners\n",
      "Wordpress beginners Build Websites Fast Coding\n",
      "Website Coding WordPress  Web Skills\n",
      "Kids Coding  Beginners CSS\n"
     ]
    }
   ],
   "source": [
    "recommend(\"know HTML Learn HTML Basics\")\n"
   ]
  },
  {
   "cell_type": "code",
   "execution_count": 28,
   "id": "066c8e75",
   "metadata": {},
   "outputs": [
    {
     "data": {
      "text/plain": [
       "'Complete Investment Banking Course 2017'"
      ]
     },
     "execution_count": 28,
     "metadata": {},
     "output_type": "execute_result"
    }
   ],
   "source": [
    "data.iloc[39]['course_title']\n"
   ]
  },
  {
   "cell_type": "code",
   "execution_count": 29,
   "id": "c6aa6ef2",
   "metadata": {},
   "outputs": [],
   "source": [
    "import pickle\n"
   ]
  },
  {
   "cell_type": "code",
   "execution_count": 30,
   "id": "86e8d527",
   "metadata": {},
   "outputs": [],
   "source": [
    "#pickle.dump(data.to_dict(),open('course_dict.pkl','wb'))\n",
    "pickle.dump(data,open('course_dict.pkl','wb'))"
   ]
  },
  {
   "cell_type": "code",
   "execution_count": 31,
   "id": "8d3f80fb",
   "metadata": {},
   "outputs": [],
   "source": [
    "\n",
    "pickle.dump(similarity,open('similarity.pkl','wb'))"
   ]
  },
  {
   "cell_type": "code",
   "execution_count": 32,
   "id": "d387bce6",
   "metadata": {},
   "outputs": [],
   "source": [
    "import tkinter as tk\n",
    "from tkinter import ttk, messagebox\n",
    "import pandas as pd\n",
    "\n",
    "# Assume 'data', 'similarity' are defined elsewhere\n",
    "\n",
    "# Define the popularity-based recommendation function\n",
    "def popularity_based_recommendation(df, top_n=5):\n",
    "    df['popularity_score'] = 0.6 * df['num_subscribers'] + 0.4 * df['num_reviews']\n",
    "    df_sorted = df.sort_values(by='popularity_score', ascending=False)\n",
    "    recommended_courses = df_sorted[['course_title', 'popularity_score']].head(top_n)\n",
    "    return recommended_courses\n",
    "\n",
    "# Define the recommend function\n",
    "def recommend(course):\n",
    "    try:\n",
    "        course_index = data[data['course_title'] == course].index[0]\n",
    "        distances = similarity[course_index]\n",
    "        courses_list = sorted(list(enumerate(distances)), reverse=True, key=lambda x: x[1])[1:6]\n",
    "        recommended_courses = [data.iloc[i[0]]['course_title'] for i in courses_list]\n",
    "        return recommended_courses\n",
    "    except IndexError:\n",
    "        messagebox.showerror(\"Error\", f\"Course '{course}' not found.\")\n",
    "\n",
    "# Event handler for the \"Recommend\" button\n",
    "def recommend_button_click():\n",
    "    course_title = course_var.get()\n",
    "    recommended_courses = recommend(course_title)\n",
    "    if recommended_courses:\n",
    "        popularity_label.pack_forget()\n",
    "        result_label.config(text=\"Recommended Courses:\\n\" + '\\n'.join(recommended_courses))\n",
    "\n",
    "# Create the main application window\n",
    "root = tk.Tk()\n",
    "root.title(\"Course Recommender\")\n",
    "root.geometry(\"400x300\")\n",
    "\n",
    "# Change font and color\n",
    "font_style = (\"Arial\", 12)\n",
    "label_color = \"blue\"\n",
    "heading_color=\"red\"\n",
    "button_color = \"green\"\n",
    "result_label_color = \"black\"\n",
    "\n",
    "# Create and place GUI elements\n",
    "label = tk.Label(root, text=\"Select Course:\", font=font_style, fg=label_color)\n",
    "label.pack(pady=10)\n",
    "\n",
    "course_titles = data['course_title'].tolist()\n",
    "course_var = tk.StringVar(value=course_titles[0])\n",
    "course_dropdown = ttk.Combobox(root, textvariable=course_var, values=course_titles, width=40, font=font_style)\n",
    "course_dropdown.pack(pady=5)\n",
    "\n",
    "popularity_recommendations = popularity_based_recommendation(data, top_n=5)\n",
    "popularity_label = tk.Label(root, text=\"Popularity-based Recommendations:\\n\" + popularity_recommendations.to_string(index=False),\n",
    "                             font=font_style, fg=label_color)\n",
    "popularity_label.pack()\n",
    "\n",
    "recommend_button = tk.Button(root, text=\"Recommend\", command=recommend_button_click, width=20, font=font_style, fg=button_color)\n",
    "recommend_button.pack(pady=10)\n",
    "\n",
    "result_label = tk.Label(root, text=\"\", wraplength=350, font=font_style, fg=result_label_color)\n",
    "result_label.pack()\n",
    "\n",
    "root.mainloop()"
   ]
  },
  {
   "cell_type": "code",
   "execution_count": null,
   "id": "53235a94",
   "metadata": {},
   "outputs": [],
   "source": []
  }
 ],
 "metadata": {
  "kernelspec": {
   "display_name": "Python 3 (ipykernel)",
   "language": "python",
   "name": "python3"
  },
  "language_info": {
   "codemirror_mode": {
    "name": "ipython",
    "version": 3
   },
   "file_extension": ".py",
   "mimetype": "text/x-python",
   "name": "python",
   "nbconvert_exporter": "python",
   "pygments_lexer": "ipython3",
   "version": "3.9.7"
  }
 },
 "nbformat": 4,
 "nbformat_minor": 5
}
